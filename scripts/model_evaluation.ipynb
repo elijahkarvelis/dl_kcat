{
 "cells": [
  {
   "attachments": {},
   "cell_type": "markdown",
   "id": "3108089e",
   "metadata": {},
   "source": [
    "### E Karvelis | 5/24/2023\n",
    "### Purpose\n",
    "Test the performance of trained models\n",
    "## How to use\n",
    "1. Copy this notebook to the working directory where your model was trained.\n",
    "2. Make sure all output, if any, were cleared.\n",
    "3. Run the blocks (needs transformer_1_config.txt or lstm_1_config.txt in the working directory)."
   ]
  },
  {
   "cell_type": "code",
   "execution_count": null,
   "id": "5776a370",
   "metadata": {},
   "outputs": [],
   "source": [
    "# import modules\n",
    "from transformer_1 import *\n",
    "\n",
    "import sys\n",
    "sys.path.append('/data/karvelis03/dl_kcat/scripts/')\n",
    "from prep_data import *\n",
    "from pred_kcat import *\n",
    "from glob import glob\n",
    "\n",
    "# Device configuration\n",
    "device = torch.device('cuda' if torch.cuda.is_available() else 'cpu')\n",
    "\n",
    "for f in glob('./*_1_config.txt'):\n",
    "    with open(f, 'r') as fo:\n",
    "        exec(fo.read())"
   ]
  },
  {
   "attachments": {},
   "cell_type": "markdown",
   "id": "ddc642e6",
   "metadata": {},
   "source": [
    "# Spearman rank correlation"
   ]
  },
  {
   "cell_type": "code",
   "execution_count": null,
   "id": "00d06e5d",
   "metadata": {
    "scrolled": true
   },
   "outputs": [],
   "source": [
    "results = []\n",
    "for model_file in glob('./best_model*'):\n",
    "    \n",
    "    test = ModelTest(model_file, data_file, meta_file=meta_file)\n",
    "    test.path_set_size = 10\n",
    "    \n",
    "    res = test.corr_test(verbose=True)\n",
    "    results.append(res)\n",
    "\n",
    "print ('\\n\\nResults for each fold:\\n')\n",
    "print (f'              Stat   |   p-value')\n",
    "spearman_rs, pearson_rs = [], []\n",
    "for res in results:\n",
    "    print (f\"Spearman: {res['spearman'].correlation:.3e}  |  {res['spearman'].pvalue:.3e}\")\n",
    "    print (f\"Pearson:  {res['pearson'][0]:.3e}  |  {res['pearson'][1]:.3e}\")\n",
    "    spearman_rs.append(res['spearman'].correlation)\n",
    "    pearson_rs.append(res['pearson'][0])\n",
    "    \n",
    "spearman_rs = np.array(spearman_rs)\n",
    "pearson_rs = np.array(pearson_rs)\n",
    "\n",
    "print (f'\\n\\nAVG +/- 1SEM, (n={spearman_rs.shape[0]} folds):')\n",
    "print (f\"Spearman: {np.mean(spearman_rs):.3f} +/- {sem(spearman_rs):.3f}\")\n",
    "print (f\"Pearson:  {np.mean(pearson_rs):.3f} +/- {sem(pearson_rs):.3f}\")"
   ]
  },
  {
   "cell_type": "code",
   "execution_count": null,
   "id": "70e5fe6d",
   "metadata": {
    "scrolled": true
   },
   "outputs": [],
   "source": [
    "tests = {}\n",
    "for model_file in glob('./best_model*'):\n",
    "    \n",
    "    tests[model_file] = ModelTest(model_file, data_file, meta_file=meta_file)\n",
    "    tests[model_file].path_set_size = 10\n",
    "    \n",
    "    tests[model_file].plot_preds()"
   ]
  },
  {
   "cell_type": "code",
   "execution_count": null,
   "id": "d8597888",
   "metadata": {},
   "outputs": [],
   "source": [
    "print ('\\n\\nResults for each fold:\\n')\n",
    "print (f'                      Stat   |   p-value')\n",
    "\n",
    "spearman_rs_train, spearman_rs_test, pearson_rs_train, pearson_rs_test = [], [], [], []\n",
    "for model_file in tests:\n",
    "    test = tests[model_file]\n",
    "    res = {'Spearman (test)':None, 'Spearman (train)':None, 'Pearson (test)':None, 'Pearson (train)':None}\n",
    "    res['Spearman (test)']  = spearmanr(test.preds['test'],  test.targets['test'])\n",
    "    res['Spearman (train)'] = spearmanr(test.preds['train'], test.targets['train'])\n",
    "    res['Pearson (test)']   = pearsonr(test.preds['test'],   test.targets['test'])\n",
    "    res['Pearson (train)']  = pearsonr(test.preds['train'],  test.targets['train'])\n",
    "    \n",
    "    print (f\"Spearman (train): {res['Spearman (train)'].correlation:.3e}  |  {res['Spearman (train)'].pvalue:.3e}\")\n",
    "    print (f\"Spearman  (test): {res['Spearman (test)'].correlation:.3e}  |  {res['Spearman (test)'].pvalue:.3e}\")\n",
    "    print (f\"Pearson (train):  {res['Pearson (train)'][0]:.3e}  |  {res['Pearson (train)'][1]:.3e}\")\n",
    "    print (f\"Pearson  (test):  {res['Pearson (test)'][0]:.3e}  |  {res['Pearson (test)'][1]:.3e}\\n\")\n",
    "    \n",
    "    spearman_rs_train.append(res['Spearman (train)'].correlation)\n",
    "    pearson_rs_train.append(res['Pearson (train)'][0])\n",
    "    spearman_rs_test.append(res['Spearman (test)'].correlation)\n",
    "    pearson_rs_test.append(res['Pearson (test)'][0])\n",
    "    \n",
    "spearman_rs_train = np.array(spearman_rs_train)\n",
    "pearson_rs_train = np.array(pearson_rs_train)\n",
    "spearman_rs_test = np.array(spearman_rs_test)\n",
    "pearson_rs_test = np.array(pearson_rs_test)\n",
    "\n",
    "print (f'\\n\\nAVG +/- 1SEM, (n={spearman_rs_train.shape[0]} folds):')\n",
    "print (f\"Spearman (train): {np.mean(spearman_rs_train):.3f} +/- {sem(spearman_rs_train):.3f}\")\n",
    "print (f\"Pearson  (train):  {np.mean(pearson_rs_train):.3f} +/- {sem(pearson_rs_train):.3f}\\n\")\n",
    "print (f\"Spearman  (test): {np.mean(spearman_rs_test):.3f} +/- {sem(spearman_rs_test):.3f}\")\n",
    "print (f\"Pearson   (test):  {np.mean(pearson_rs_test):.3f} +/- {sem(pearson_rs_test):.3f}\")"
   ]
  },
  {
   "attachments": {},
   "cell_type": "markdown",
   "id": "9060d783",
   "metadata": {},
   "source": [
    "# Loop through each CV Fold"
   ]
  },
  {
   "cell_type": "code",
   "execution_count": null,
   "id": "723195b0",
   "metadata": {
    "scrolled": false
   },
   "outputs": [],
   "source": [
    "for model_file in glob('./best_model_cvfold*.pt'):\n",
    "    print ('-----------------------------------------------------')\n",
    "    print (f'FOLD: {model_file.split('cvfold')[-1].split('.')[0]}')\n",
    "    print ('-----------------------------------------------------\\n')\n",
    "    test = ModelTest(model_file, data_file, meta_file=meta_file)\n",
    "    _ = test.plot_train_var_pred(figname='best_model_cvfold1_train.png')\n",
    "    _ = test.plot_test_var_pred(figname='best_model_cvfold1_train.png')\n",
    "    test.path_set_size = 10\n",
    "    res = test.spearman_test()\n",
    "    print (res)"
   ]
  },
  {
   "attachments": {},
   "cell_type": "markdown",
   "id": "1f225d88",
   "metadata": {},
   "source": [
    "# CV Fold 2"
   ]
  },
  {
   "cell_type": "code",
   "execution_count": null,
   "id": "6dfca337",
   "metadata": {},
   "outputs": [],
   "source": [
    "model_file = '/data/karvelis03/dl_kcat/transformer_1s/denseweight/job12-1/stoch_labels/test/best_model_cvfold2.pt'\n",
    "test = ModelTest(model_file, data_file, meta_file=meta_file)"
   ]
  },
  {
   "cell_type": "code",
   "execution_count": null,
   "id": "9e62f6e1",
   "metadata": {
    "scrolled": true
   },
   "outputs": [],
   "source": [
    "_ = test.plot_train_var_pred(figname='best_model_cvfold2_train.png')"
   ]
  },
  {
   "cell_type": "code",
   "execution_count": null,
   "id": "d754c3f4",
   "metadata": {
    "scrolled": true
   },
   "outputs": [],
   "source": [
    "_ = test.plot_test_var_pred(figname='best_model_cvfold2_train.png')"
   ]
  },
  {
   "cell_type": "code",
   "execution_count": null,
   "id": "eba4943c",
   "metadata": {},
   "outputs": [],
   "source": [
    "test.path_set_size = 10\n",
    "res = test.spearman_test()\n",
    "print (res)"
   ]
  },
  {
   "attachments": {},
   "cell_type": "markdown",
   "id": "30ddf574",
   "metadata": {},
   "source": [
    "# CV Fold 3"
   ]
  },
  {
   "cell_type": "code",
   "execution_count": null,
   "id": "a471784e",
   "metadata": {},
   "outputs": [],
   "source": [
    "model_file = '/data/karvelis03/dl_kcat/transformer_1s/denseweight/job12-1/stoch_labels/test/best_model_cvfold3.pt'\n",
    "test = ModelTest(model_file, data_file, meta_file=meta_file)"
   ]
  },
  {
   "cell_type": "code",
   "execution_count": null,
   "id": "07ca3ec2",
   "metadata": {
    "scrolled": true
   },
   "outputs": [],
   "source": [
    "_ = test.plot_train_var_pred(figname='best_model_cvfold3_train.png')"
   ]
  },
  {
   "cell_type": "code",
   "execution_count": null,
   "id": "789e661a",
   "metadata": {},
   "outputs": [],
   "source": [
    "_ = test.plot_test_var_pred(figname='best_model_cvfold3_train.png')"
   ]
  },
  {
   "cell_type": "code",
   "execution_count": null,
   "id": "abc4cabe",
   "metadata": {},
   "outputs": [],
   "source": [
    "test.path_set_size = 10\n",
    "res = test.spearman_test()\n",
    "print (res)"
   ]
  }
 ],
 "metadata": {
  "kernelspec": {
   "display_name": ".env",
   "language": "python",
   "name": "python3"
  },
  "language_info": {
   "codemirror_mode": {
    "name": "ipython",
    "version": 3
   },
   "file_extension": ".py",
   "mimetype": "text/x-python",
   "name": "python",
   "nbconvert_exporter": "python",
   "pygments_lexer": "ipython3",
   "version": "3.10.9"
  }
 },
 "nbformat": 4,
 "nbformat_minor": 5
}
